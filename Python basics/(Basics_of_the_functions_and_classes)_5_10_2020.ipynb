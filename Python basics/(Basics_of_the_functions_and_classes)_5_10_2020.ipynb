{
 "cells": [
  {
   "cell_type": "markdown",
   "metadata": {},
   "source": [
    "# *Functions and Classes*\n",
    "**Functions** - is a block of code which only runs when it is called."
   ]
  },
  {
   "cell_type": "code",
   "execution_count": null,
   "metadata": {},
   "outputs": [],
   "source": [
    "def my_function(arg_1, arg_2): # Defining the function which accepts two arguments\n",
    "    # Function body\n",
    "    return arg_1 + arg_2 # Return sum of the arguments\n",
    "\n",
    "x = my_function(3, 7) # Calling for the function and passing arguments\n",
    "y = my_function(x, 4) \n",
    "print(y) \n",
    "\n",
    "def list_sum(lst): # Another example of using functions\n",
    "    result = 0 \n",
    "    for element in lst:\n",
    "        result+=element\n",
    "    return result\n",
    "\n",
    "result = list_sum([1, 2, 3]) \n",
    "print(result)\n",
    "\n",
    "def printab (a, b, *args): # Defining function with two positional arguments and with arbitrary arguments\n",
    "    print('positional argument: '+a)\n",
    "    print('positional argument: '+b)\n",
    "    print('additional arguments: ')\n",
    "    for arg in args:\n",
    "        print(arg)\n",
    "\n",
    "def printargs (**args): # Defining function with arbitrary keyword arguments\n",
    "    print('positional argument: '+a)\n",
    "    print('positional argument: '+b)\n",
    "    print('additional arguments: ')\n",
    "    print(**args)\n",
    "    \n",
    "def function ( positional_args,\n",
    "               positional_args_with_default,\n",
    "               *pos_args_name,\n",
    "               **kw_args_name): # Right order of defining arguments of a function\n",
    "    pass\n",
    "\n",
    "x = 5\n",
    "def my_func(): \n",
    "    global x # Using global x\n",
    "    print(x) # 5\n",
    "    x = 10 # Updating GLOBAL x\n",
    "my_func()\n",
    "print(x) # 10"
   ]
  },
  {
   "cell_type": "markdown",
   "metadata": {},
   "source": [
    "# *Classes*\n",
    "Python is an object oriented programming language.  \n",
    "**Class** - is an object constructer."
   ]
  },
  {
   "cell_type": "code",
   "execution_count": null,
   "metadata": {},
   "outputs": [],
   "source": [
    "class MyClass: # Creating class \n",
    "    a = 10 \n",
    "    \n",
    "    def func(self): # Defining method in the class\n",
    "        print(self.a) # 10\n",
    "        \n",
    "class Counter: # Creating \"empty\" class\n",
    "    pass \n",
    "        \n",
    "x = MyClass() # Creating object with type \"MyClass\"\n",
    "x.func() # Calling \"func\" method\n",
    "print(type(x)) # Getting x's type\n",
    "print(type(MyClass)) # Getting MyClass's type\n",
    "\n",
    "y = Counter() # Creating object with type Counter\n",
    "y.count = 0 # Creating variable belonging to y\n",
    "y.count += 2 # Updating variable belonging to y\n",
    "print(y.count) # Printing value of the variable belonging to y"
   ]
  },
  {
   "cell_type": "markdown",
   "metadata": {},
   "source": [
    "__init__ method is called every time new object of the class is created."
   ]
  },
  {
   "cell_type": "code",
   "execution_count": null,
   "metadata": {
    "scrolled": true
   },
   "outputs": [],
   "source": [
    "class Counter_1: # Creating \n",
    "    \n",
    "    def __init__(self, start=0): # Defining __init__ method \n",
    "        self.count = start      \n",
    "    \n",
    "    def add(self):\n",
    "        self.count += 1\n",
    "        \n",
    "    def reset(self):\n",
    "        self.count = 0\n",
    "\n",
    "x = Counter_1(5)\n",
    "x.add()\n",
    "print(x.count)\n",
    "\n",
    "class MyList(list):\n",
    "    def even_length(self):\n",
    "        return len(self) % 2 == 0\n",
    "    \n",
    "y = MyList([1, 2, 3])\n",
    "print(y)\n",
    "print(y.even_length())\n",
    "y.extend([4, 5, 6])\n",
    "print(y)\n",
    "print(y.even_length())"
   ]
  }
 ],
 "metadata": {
  "kernelspec": {
   "display_name": "Python 3",
   "language": "python",
   "name": "python3"
  },
  "language_info": {
   "codemirror_mode": {
    "name": "ipython",
    "version": 3
   },
   "file_extension": ".py",
   "mimetype": "text/x-python",
   "name": "python",
   "nbconvert_exporter": "python",
   "pygments_lexer": "ipython3",
   "version": "3.7.4"
  }
 },
 "nbformat": 4,
 "nbformat_minor": 2
}
