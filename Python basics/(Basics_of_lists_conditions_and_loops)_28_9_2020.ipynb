{
 "cells": [
  {
   "cell_type": "markdown",
   "metadata": {},
   "source": [
    "*How to install libraries in python:*\n",
    "- Open search on your laptop. \n",
    "- Search for the Anaconda Prompt (Anaconda3)\n",
    "- Write down **pip install (library you want to install)**\n",
    "- For our club we need several libraries: numpy, matplotlib, pandas, scipy, scikit-learn, tensorflow"
   ]
  },
  {
   "cell_type": "code",
   "execution_count": 14,
   "metadata": {},
   "outputs": [
    {
     "name": "stdout",
     "output_type": "stream",
     "text": [
      "3\n",
      "[2, 1]\n",
      "John\n",
      "Less\n",
      "0\n",
      "1\n",
      "2\n",
      "3\n",
      "4\n",
      "5\n",
      "6\n",
      "7\n",
      "8\n",
      "9\n",
      "0\n",
      "1\n",
      "2\n",
      "3\n",
      "4\n",
      "5\n",
      "6\n",
      "7\n",
      "8\n",
      "9\n",
      "2\n",
      "<class 'numpy.ndarray'>\n"
     ]
    }
   ],
   "source": [
    "import numpy as np # Importing numpy library\n",
    "import matplotlib.pyplot as plt # Importing matplotlib library\n",
    "\n",
    "list_0 = [1, 3, 2] # Creating the list\n",
    "list_0.sort(reverse=True) # Sorting the list in a descending way: [3, 2, 1]\n",
    "print(list_0[0]) # Printing the first element of the list\n",
    "list_0.append(4) # Adding an element to the end of the list\n",
    "print(list_0[1:3]) # Printing from the 1st (including) element to the 3rd (excluding)\n",
    "list_0.clear() # Clearing the list\n",
    "\n",
    "dic = {'Name': 'John', 'Age': 23} # Creating the dictionary with the indexes 'Name' and 'Age'\n",
    "print(dic['Name']) # Printing element with index 'Name'\n",
    "\n",
    "int_0 = 4\n",
    "int_1 = 5\n",
    "if int_0 < int_1:\n",
    "    print('Less') # Printing 'Less' if int_0 is less than int_1 (First condition)\n",
    "elif int_0 > int_1:\n",
    "    print('More') # Printing 'More' if int_0 is more than int_1 and first condition is false (Second condition)\n",
    "else:\n",
    "    print('Equal') # Printing 'Equal' if neither first nor second condition is true\n",
    "    \n",
    "for i in range(10):\n",
    "    print(i) # Printing every number from 0 to 10\n",
    "\n",
    "i = 0\n",
    "while i<10:\n",
    "    print(i)\n",
    "    i+=1 # Another way to print every number from 0 to 10\n",
    "    \n",
    "array_0 = np.array([1, 2, 3]) # Creating \n",
    "print(array_0[1])\n",
    "print(type(array_0))"
   ]
  }
 ],
 "metadata": {
  "kernelspec": {
   "display_name": "Python 3",
   "language": "python",
   "name": "python3"
  },
  "language_info": {
   "codemirror_mode": {
    "name": "ipython",
    "version": 3
   },
   "file_extension": ".py",
   "mimetype": "text/x-python",
   "name": "python",
   "nbconvert_exporter": "python",
   "pygments_lexer": "ipython3",
   "version": "3.7.4"
  }
 },
 "nbformat": 4,
 "nbformat_minor": 2
}
